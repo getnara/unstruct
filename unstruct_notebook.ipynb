{
 "cells": [
  {
   "cell_type": "markdown",
   "id": "47fe91a4",
   "metadata": {},
   "source": [
    "# Document Processing API Walkthrough\n",
    "\n",
    "This notebook demonstrates how to use the Document Processing API to extract information from PDF files. We'll walk through the complete workflow from project creation to data extraction."
   ]
  },
  {
   "cell_type": "markdown",
   "id": "9597004c",
   "metadata": {},
   "source": [
    "## 1. Setup and Configuration\n",
    "\n",
    "First, we'll set up our environment by configuring:\n",
    "- Test files to process\n",
    "- Base URL for the API endpoints\n",
    "\n",
    "This establishes our connection to the local backend service."
   ]
  },
  {
   "cell_type": "code",
   "execution_count": 1,
   "id": "39ef5644",
   "metadata": {},
   "outputs": [],
   "source": [
    "files= ['resume.pdf']\n",
    "base_url = 'http://localhost:8000'"
   ]
  },
  {
   "cell_type": "markdown",
   "id": "5fe25ccc",
   "metadata": {},
   "source": [
    "## 2. Creating a New Project\n",
    "\n",
    "Now we'll create a new project to organize our document processing:\n",
    "- Send a POST request to create the project\n",
    "- Configure project name and description\n",
    "- Specify the data source type\n",
    "\n",
    "The response will include important details like project ID and organization information."
   ]
  },
  {
   "cell_type": "code",
   "execution_count": 2,
   "id": "b2f95b47",
   "metadata": {},
   "outputs": [
    {
     "name": "stdout",
     "output_type": "stream",
     "text": [
      "201\n"
     ]
    }
   ],
   "source": [
    "import requests\n",
    "\n",
    "url = f'{base_url}/core/project/'\n",
    "headers = {\n",
    "    'Accept': '*/*',\n",
    "    'Accept-Language': 'en-GB,en-US;q=0.9,en;q=0.8',\n",
    "}\n",
    "data = {\n",
    "    \"name\": \"Resume Project\",\n",
    "    \"description\": \"resume extract\",\n",
    "    \"data_source_type\": \"UPLOAD\",\n",
    "}\n",
    "\n",
    "response = requests.post(url, headers=headers, json=data)\n",
    "\n",
    "print(response.status_code)\n",
    "project = response.json()\n"
   ]
  },
  {
   "cell_type": "code",
   "execution_count": 3,
   "id": "33467329",
   "metadata": {},
   "outputs": [
    {
     "data": {
      "text/plain": [
       "{'id': '10875952-9dcf-4f50-afaa-e4fa7b194702',\n",
       " 'created_by_email': 'bypass@example.com',\n",
       " 'updated_by_email': 'bypass@example.com',\n",
       " 'organization_name': 'personal',\n",
       " 'organization_id': '843ea37d-9974-4ce4-b0f9-d82c585b2493',\n",
       " 'is_deleted': False,\n",
       " 'deleted_at': None,\n",
       " 'created_at': '2025-02-21T23:00:45.851937Z',\n",
       " 'updated_at': '2025-02-21T23:00:45.856588Z',\n",
       " 'name': 'Resume Project',\n",
       " 'description': 'resume extract',\n",
       " 'data_source_type': 'UPLOAD',\n",
       " 'created_by': '00000000-0000-0000-0000-000000000001',\n",
       " 'updated_by': '00000000-0000-0000-0000-000000000001',\n",
       " 'organization': '843ea37d-9974-4ce4-b0f9-d82c585b2493',\n",
       " 'owner': '00000000-0000-0000-0000-000000000001',\n",
       " 'collaborators': []}"
      ]
     },
     "execution_count": 3,
     "metadata": {},
     "output_type": "execute_result"
    }
   ],
   "source": [
    "project"
   ]
  },
  {
   "cell_type": "code",
   "execution_count": null,
   "id": "2b2a9927",
   "metadata": {},
   "outputs": [],
   "source": []
  },
  {
   "cell_type": "markdown",
   "id": "a02bb1ee",
   "metadata": {},
   "source": [
    "## 3. File Upload Process\n",
    "\n",
    "With our project created, we can now upload files:\n",
    "- Upload PDF files to the project\n",
    "- Handle multipart form data for file uploads\n",
    "- Receive asset details including IDs and URLs\n",
    "\n",
    "This step creates the assets that we'll process in later steps."
   ]
  },
  {
   "cell_type": "code",
   "execution_count": 4,
   "id": "3ff97ed0",
   "metadata": {
    "scrolled": true
   },
   "outputs": [
    {
     "name": "stdout",
     "output_type": "stream",
     "text": [
      "[{'id': 'cf4a6756-5a02-4fd4-9d84-9e1d285d8f43', 'is_deleted': False, 'deleted_at': None, 'created_at': '2025-02-21T23:00:45.900070Z', 'updated_at': '2025-02-21T23:00:45.903140Z', 'name': 'resume.pdf', 'description': 'Uploaded file: resume.pdf', 'url': '/tmp/unstruct/assets/cf4a6756-5a02-4fd4-9d84-9e1d285d8f43/resume.pdf', 'upload_source': 'UPLOAD', 'file_type': 'PDF', 'mime_type': None, 'size': None, 'source_file_id': None, 'source_credentials': None, 'metadata': None, 'created_by': None, 'updated_by': None, 'organization': None, 'owner': None, 'project': '10875952-9dcf-4f50-afaa-e4fa7b194702'}]\n"
     ]
    }
   ],
   "source": [
    "import requests\n",
    "\n",
    "url = f\"{base_url}/core/asset/assets/\"\n",
    "headers = {\n",
    "    'Accept': '*/*',\n",
    "    'Accept-Language': 'en-GB,en-US;q=0.9,en;q=0.8',\n",
    "}\n",
    "\n",
    "data = {\n",
    "    \"project_id\": project['id'],\n",
    "    \"upload_source\": \"UPLOAD\",\n",
    "}\n",
    "fs = [(\"files\", (file, open(file, \"rb\"), \"application/pdf\")) for file in files]\n",
    "\n",
    "response = requests.post(url,  headers=headers, data=data, files=fs)\n",
    "print(response.json())"
   ]
  },
  {
   "cell_type": "code",
   "execution_count": 5,
   "id": "a943793d",
   "metadata": {},
   "outputs": [],
   "source": [
    "assets = response.json()"
   ]
  },
  {
   "cell_type": "code",
   "execution_count": 6,
   "id": "d2608fb2",
   "metadata": {},
   "outputs": [
    {
     "data": {
      "text/plain": [
       "[{'id': 'cf4a6756-5a02-4fd4-9d84-9e1d285d8f43',\n",
       "  'is_deleted': False,\n",
       "  'deleted_at': None,\n",
       "  'created_at': '2025-02-21T23:00:45.900070Z',\n",
       "  'updated_at': '2025-02-21T23:00:45.903140Z',\n",
       "  'name': 'resume.pdf',\n",
       "  'description': 'Uploaded file: resume.pdf',\n",
       "  'url': '/tmp/unstruct/assets/cf4a6756-5a02-4fd4-9d84-9e1d285d8f43/resume.pdf',\n",
       "  'upload_source': 'UPLOAD',\n",
       "  'file_type': 'PDF',\n",
       "  'mime_type': None,\n",
       "  'size': None,\n",
       "  'source_file_id': None,\n",
       "  'source_credentials': None,\n",
       "  'metadata': None,\n",
       "  'created_by': None,\n",
       "  'updated_by': None,\n",
       "  'organization': None,\n",
       "  'owner': None,\n",
       "  'project': '10875952-9dcf-4f50-afaa-e4fa7b194702'}]"
      ]
     },
     "execution_count": 6,
     "metadata": {},
     "output_type": "execute_result"
    }
   ],
   "source": [
    "assets"
   ]
  },
  {
   "cell_type": "code",
   "execution_count": null,
   "id": "4e56e0d1",
   "metadata": {},
   "outputs": [],
   "source": []
  },
  {
   "cell_type": "markdown",
   "id": "87b2a713",
   "metadata": {},
   "source": [
    "## 4. Defining Extraction Actions\n",
    "\n",
    "Now we'll define what information to extract:\n",
    "- Create extraction actions for specific fields (name and address)\n",
    "- Configure output columns and types\n",
    "- Set up multiple extraction parameters\n",
    "\n",
    "These actions define what data we want to extract from our documents."
   ]
  },
  {
   "cell_type": "code",
   "execution_count": 7,
   "id": "eb077319",
   "metadata": {},
   "outputs": [],
   "source": [
    "import requests\n",
    "\n",
    "\n",
    "\n",
    "url = f'{base_url}/core/action/'\n",
    "\n",
    "headers = {\n",
    "    'Accept': '*/*',\n",
    "    'Accept-Language': 'en-GB,en-US;q=0.9,en;q=0.8',\n",
    "}\n",
    "\n",
    "actions_details = [{\n",
    "    \"output_column_name\": \"name\",\n",
    "    \"output_column_type\": \"TEXT\",\n",
    "    \"action_type\": \"EXTRACT\",\n",
    "    \"description\": \"name\"\n",
    "},{\n",
    "    \"output_column_name\": \"address\",\n",
    "    \"output_column_type\": \"TEXT\",\n",
    "    \"action_type\": \"EXTRACT\",\n",
    "    \"description\": \"address\"\n",
    "}\n",
    "]\n",
    "\n",
    "actions = []\n",
    "for act in actions_details:\n",
    "    response = requests.post(url, headers=headers, json=act)\n",
    "\n",
    "    actions.append(response.json())\n"
   ]
  },
  {
   "cell_type": "code",
   "execution_count": 8,
   "id": "bffdb00b",
   "metadata": {},
   "outputs": [
    {
     "data": {
      "text/plain": [
       "[{'id': '9fe8246c-f3ca-40a5-91ce-2415b7c89a67',\n",
       "  'created_by_email': 'bypass@example.com',\n",
       "  'updated_by_email': 'bypass@example.com',\n",
       "  'organization_name': 'personal',\n",
       "  'organization_id': '843ea37d-9974-4ce4-b0f9-d82c585b2493',\n",
       "  'is_deleted': False,\n",
       "  'deleted_at': None,\n",
       "  'created_at': '2025-02-21T23:00:45.942804Z',\n",
       "  'updated_at': '2025-02-21T23:00:45.942819Z',\n",
       "  'output_column_name': 'name',\n",
       "  'output_column_type': 'TEXT',\n",
       "  'action_type': 'EXTRACT',\n",
       "  'description': 'name',\n",
       "  'created_by': '00000000-0000-0000-0000-000000000001',\n",
       "  'updated_by': '00000000-0000-0000-0000-000000000001',\n",
       "  'organization': '843ea37d-9974-4ce4-b0f9-d82c585b2493',\n",
       "  'owner': None},\n",
       " {'id': 'd6ba62a1-fa70-497a-8600-624120267fc5',\n",
       "  'created_by_email': 'bypass@example.com',\n",
       "  'updated_by_email': 'bypass@example.com',\n",
       "  'organization_name': 'personal',\n",
       "  'organization_id': '843ea37d-9974-4ce4-b0f9-d82c585b2493',\n",
       "  'is_deleted': False,\n",
       "  'deleted_at': None,\n",
       "  'created_at': '2025-02-21T23:00:45.965987Z',\n",
       "  'updated_at': '2025-02-21T23:00:45.966004Z',\n",
       "  'output_column_name': 'address',\n",
       "  'output_column_type': 'TEXT',\n",
       "  'action_type': 'EXTRACT',\n",
       "  'description': 'address',\n",
       "  'created_by': '00000000-0000-0000-0000-000000000001',\n",
       "  'updated_by': '00000000-0000-0000-0000-000000000001',\n",
       "  'organization': '843ea37d-9974-4ce4-b0f9-d82c585b2493',\n",
       "  'owner': None}]"
      ]
     },
     "execution_count": 8,
     "metadata": {},
     "output_type": "execute_result"
    }
   ],
   "source": [
    "actions"
   ]
  },
  {
   "cell_type": "markdown",
   "id": "d4a2d071",
   "metadata": {},
   "source": [
    "## 5. Task Creation and Configuration\n",
    "\n",
    "With our assets and actions ready, we'll create a processing task:\n",
    "- Create a new task linked to our project\n",
    "- Associate assets and actions with the task\n",
    "- Configure task parameters and initial status\n",
    "\n",
    "This step brings together all the components we've set up."
   ]
  },
  {
   "cell_type": "code",
   "execution_count": 9,
   "id": "c2a37620",
   "metadata": {},
   "outputs": [
    {
     "name": "stdout",
     "output_type": "stream",
     "text": [
      "201\n",
      "{\"id\":\"149dcfa1-756d-4ca3-92d0-6f1e77a648a0\",\"created_by_email\":\"bypass@example.com\",\"updated_by_email\":\"bypass@example.com\",\"organization_name\":\"personal\",\"organization_id\":\"843ea37d-9974-4ce4-b0f9-d82c585b2493\",\"is_deleted\":false,\"deleted_at\":null,\"created_at\":\"2025-02-21T23:00:46.010700Z\",\"updated_at\":\"2025-02-21T23:00:46.010720Z\",\"name\":\"Resume Extract\",\"system_prompt\":\"Resume Extract\",\"status\":\"PENDING\",\"description\":\"Resume Extract\",\"result_file_url\":null,\"process_results\":\"[]\",\"total_files\":0,\"processed_files\":0,\"failed_files\":0,\"started_at\":null,\"completed_at\":null,\"created_by\":\"00000000-0000-0000-0000-000000000001\",\"updated_by\":\"00000000-0000-0000-0000-000000000001\",\"organization\":\"843ea37d-9974-4ce4-b0f9-d82c585b2493\",\"owner\":null,\"project\":\"10875952-9dcf-4f50-afaa-e4fa7b194702\",\"assets\":[\"cf4a6756-5a02-4fd4-9d84-9e1d285d8f43\"],\"actions\":[\"9fe8246c-f3ca-40a5-91ce-2415b7c89a67\",\"d6ba62a1-fa70-497a-8600-624120267fc5\"]}\n"
     ]
    }
   ],
   "source": [
    "import requests\n",
    "\n",
    "url = f'{base_url}/core/task/'\n",
    "\n",
    "headers = {\n",
    "    'Accept': '*/*',\n",
    "    'Accept-Language': 'en-GB,en-US;q=0.9,en;q=0.8',\n",
    "}\n",
    "\n",
    "data = {\n",
    "    \"name\": \"Resume Extract\",\n",
    "    \"description\": \"Resume Extract\",\n",
    "    \"system_prompt\": \"Resume Extract\",\n",
    "    \"status\": \"PENDING\",\n",
    "    \"project\": project['id'],\n",
    "    \"assets\": [\n",
    "        asset['id'] for asset in assets\n",
    "    ],\n",
    "    \"actions\": [\n",
    "        action['id'] for action in actions\n",
    "    ],\n",
    "    \"organization_id\": project[\"organization_id\"]\n",
    "}\n",
    "\n",
    "response = requests.post(url, headers=headers, json=data)\n",
    "\n",
    "print(response.status_code)\n",
    "print(response.text)\n"
   ]
  },
  {
   "cell_type": "code",
   "execution_count": 10,
   "id": "48f44e8d",
   "metadata": {},
   "outputs": [
    {
     "data": {
      "text/plain": [
       "{'id': '149dcfa1-756d-4ca3-92d0-6f1e77a648a0',\n",
       " 'created_by_email': 'bypass@example.com',\n",
       " 'updated_by_email': 'bypass@example.com',\n",
       " 'organization_name': 'personal',\n",
       " 'organization_id': '843ea37d-9974-4ce4-b0f9-d82c585b2493',\n",
       " 'is_deleted': False,\n",
       " 'deleted_at': None,\n",
       " 'created_at': '2025-02-21T23:00:46.010700Z',\n",
       " 'updated_at': '2025-02-21T23:00:46.010720Z',\n",
       " 'name': 'Resume Extract',\n",
       " 'system_prompt': 'Resume Extract',\n",
       " 'status': 'PENDING',\n",
       " 'description': 'Resume Extract',\n",
       " 'result_file_url': None,\n",
       " 'process_results': '[]',\n",
       " 'total_files': 0,\n",
       " 'processed_files': 0,\n",
       " 'failed_files': 0,\n",
       " 'started_at': None,\n",
       " 'completed_at': None,\n",
       " 'created_by': '00000000-0000-0000-0000-000000000001',\n",
       " 'updated_by': '00000000-0000-0000-0000-000000000001',\n",
       " 'organization': '843ea37d-9974-4ce4-b0f9-d82c585b2493',\n",
       " 'owner': None,\n",
       " 'project': '10875952-9dcf-4f50-afaa-e4fa7b194702',\n",
       " 'assets': ['cf4a6756-5a02-4fd4-9d84-9e1d285d8f43'],\n",
       " 'actions': ['9fe8246c-f3ca-40a5-91ce-2415b7c89a67',\n",
       "  'd6ba62a1-fa70-497a-8600-624120267fc5']}"
      ]
     },
     "execution_count": 10,
     "metadata": {},
     "output_type": "execute_result"
    }
   ],
   "source": [
    "task = response.json()\n",
    "task"
   ]
  },
  {
   "cell_type": "markdown",
   "id": "48e757df",
   "metadata": {},
   "source": [
    "## 6. Processing and Results\n",
    "\n",
    "Finally, we'll process our documents and get results:\n",
    "- Trigger the extraction process\n",
    "- Monitor task status\n",
    "- View extracted data\n",
    "- Access the generated CSV results\n",
    "\n",
    "This is where we see the results of our document processing pipeline."
   ]
  },
  {
   "cell_type": "code",
   "execution_count": 11,
   "id": "7657dda7",
   "metadata": {},
   "outputs": [
    {
     "name": "stdout",
     "output_type": "stream",
     "text": [
      "500\n"
     ]
    }
   ],
   "source": [
    "import requests\n",
    "\n",
    "url = f'{base_url}/core/task/{task[\"id\"]}/process/'\n",
    "\n",
    "headers = {\n",
    "    'Accept': '*/*',\n",
    "    'Accept-Language': 'en-GB,en-US;q=0.9,en;q=0.8',\n",
    "}\n",
    "\n",
    "response = requests.post(url, headers=headers)\n",
    "\n",
    "print(response.status_code)\n"
   ]
  },
  {
   "cell_type": "code",
   "execution_count": 12,
   "id": "70f4e7c2",
   "metadata": {},
   "outputs": [
    {
     "data": {
      "text/plain": [
       "{'error': 'Gemini API key is not set in the environment variables.'}"
      ]
     },
     "execution_count": 12,
     "metadata": {},
     "output_type": "execute_result"
    }
   ],
   "source": [
    "response.json()"
   ]
  },
  {
   "cell_type": "code",
   "execution_count": null,
   "id": "590728a8",
   "metadata": {},
   "outputs": [],
   "source": []
  }
 ],
 "metadata": {
  "kernelspec": {
   "display_name": "Python 3 (ipykernel)",
   "language": "python",
   "name": "python3"
  },
  "language_info": {
   "codemirror_mode": {
    "name": "ipython",
    "version": 3
   },
   "file_extension": ".py",
   "mimetype": "text/x-python",
   "name": "python",
   "nbconvert_exporter": "python",
   "pygments_lexer": "ipython3",
   "version": "3.10.15"
  }
 },
 "nbformat": 4,
 "nbformat_minor": 5
}
